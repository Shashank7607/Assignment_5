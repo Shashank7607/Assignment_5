{
 "cells": [
  {
   "cell_type": "code",
   "execution_count": 1,
   "id": "42036d2f-e3d8-4914-9f12-e552b9d3b62a",
   "metadata": {},
   "outputs": [],
   "source": [
    "#Assignment_5"
   ]
  },
  {
   "cell_type": "code",
   "execution_count": 2,
   "id": "af04b22d-d769-4225-bb3d-443d792faae9",
   "metadata": {},
   "outputs": [],
   "source": [
    "#answer 1 "
   ]
  },
  {
   "cell_type": "code",
   "execution_count": 3,
   "id": "c57977b9-b4d3-4349-a897-bfc42bcd412b",
   "metadata": {},
   "outputs": [
    {
     "data": {
      "text/plain": [
       "'In Object-Oriented Programming (OOP), a class is a blueprint or template for creating objects. It defines the attributes and methods that an object of that class will have. An object, on the other hand, is an instance of a class that has its own set of attributes and can perform the methods defined in the class.'"
      ]
     },
     "execution_count": 3,
     "metadata": {},
     "output_type": "execute_result"
    }
   ],
   "source": [
    "\"In Object-Oriented Programming (OOP), a class is a blueprint or template for creating objects. It defines the attributes and methods that an object of that class will have. An object, on the other hand, is an instance of a class that has its own set of attributes and can perform the methods defined in the class.\""
   ]
  },
  {
   "cell_type": "code",
   "execution_count": 4,
   "id": "191a5794-fc28-46ae-80f4-7273071e5dc5",
   "metadata": {},
   "outputs": [
    {
     "name": "stdout",
     "output_type": "stream",
     "text": [
      "Toyota\n",
      "Camry\n",
      "2022\n",
      "20\n",
      "10\n"
     ]
    }
   ],
   "source": [
    "class Car:\n",
    "    def __init__(self, make, model, year):\n",
    "        self.make = make\n",
    "        self.model = model\n",
    "        self.year = year\n",
    "        self.speed = 0\n",
    "        \n",
    "    def accelerate(self):\n",
    "        self.speed += 10\n",
    "        \n",
    "    def brake(self):\n",
    "        self.speed -= 10\n",
    "        \n",
    "    def get_speed(self):\n",
    "        return self.speed\n",
    "        \n",
    "my_car = Car(\"Toyota\", \"Camry\", 2022)\n",
    "print(my_car.make)   # Output: Toyota\n",
    "print(my_car.model)  # Output: Camry\n",
    "print(my_car.year)   # Output: 2022\n",
    "\n",
    "my_car.accelerate()  # Increase the speed by 10\n",
    "my_car.accelerate()  # Increase the speed by another 10\n",
    "print(my_car.get_speed())  # Output: 20\n",
    "\n",
    "my_car.brake()       # Decrease the speed by 10\n",
    "print(my_car.get_speed())  # Output: 10\n"
   ]
  },
  {
   "cell_type": "code",
   "execution_count": 5,
   "id": "859b2450-d769-4da6-b174-a7b584644063",
   "metadata": {},
   "outputs": [],
   "source": [
    "#answer 2"
   ]
  },
  {
   "cell_type": "code",
   "execution_count": 6,
   "id": "e5f8e092-2b4a-42c7-9f7d-5a149c653be6",
   "metadata": {},
   "outputs": [],
   "source": [
    "#1Encapsulation: Encapsulation refers to the practice of bundling data and methods that operate on that data within one unit or object, and restricting access to the inner workings of the object from the outside world. This is done to prevent accidental or intentional modification of the object's state.\n",
    "\n",
    "#2Inheritance: Inheritance is the process by which one class acquires the properties (methods and attributes) of another class. This allows classes to be arranged in a hierarchical tree structure, with parent classes at the top and child classes at the bottom.\n",
    "\n",
    "#3Polymorphism: Polymorphism refers to the ability of objects of different classes to be used interchangeably. This allows code to be written that can operate on a range of objects without needing to know their exact class, as long as they share certain methods or attributes.\n",
    "\n",
    "#4Abstraction: Abstraction refers to the process of taking a complex system and simplifying it by focusing only on the relevant details. In OOP, this is done by creating abstract classes or interfaces that define the common characteristics and behaviors of a group of related objects, without specifying the exact implementation details."
   ]
  },
  {
   "cell_type": "code",
   "execution_count": 7,
   "id": "2bb0287f-81b5-4f6b-a680-895b09cdee12",
   "metadata": {},
   "outputs": [],
   "source": [
    "#answer 3"
   ]
  },
  {
   "cell_type": "code",
   "execution_count": 8,
   "id": "68b33cf8-2f53-4ea7-af10-cb71e8d431e6",
   "metadata": {},
   "outputs": [],
   "source": [
    "#The __init__() function is a special method in Python that is automatically called when an object is created from a class. It is used to initialize the attributes or properties of the object with default values or values passed in as arguments."
   ]
  },
  {
   "cell_type": "code",
   "execution_count": 9,
   "id": "831400d5-9ffa-4c0e-ae9c-8d50b948ae6a",
   "metadata": {},
   "outputs": [],
   "source": [
    "class Person:\n",
    "    def __init__(self, name, age):\n",
    "        self.name = name\n",
    "        self.age = age\n"
   ]
  },
  {
   "cell_type": "markdown",
   "id": "770f33ea-66df-4842-ab92-06b66a83d7b2",
   "metadata": {
    "jp-MarkdownHeadingCollapsed": true,
    "tags": []
   },
   "source": [
    "#answer 4"
   ]
  },
  {
   "cell_type": "code",
   "execution_count": 10,
   "id": "71e294ea-4cb7-48f5-b2de-7b914d7e2d58",
   "metadata": {},
   "outputs": [],
   "source": [
    "#In object-oriented programming (OOP), self is used to refer to the instance of a class. It is a reference to the object that is being created, modified, or accessed by a method within that class.\n",
    "\n",
    "#When we define a method in a class, we need to include self as the first parameter in the method definition. This allows us to access the attributes and methods of the instance that the method is being called on. For example:"
   ]
  },
  {
   "cell_type": "code",
   "execution_count": 11,
   "id": "961420f3-12eb-4707-bc7d-57838a303dac",
   "metadata": {},
   "outputs": [],
   "source": [
    "class Person:\n",
    "    def __init__(self, name, age):\n",
    "        self.name = name\n",
    "        self.age = age\n",
    "\n",
    "    def say_hello(self):\n",
    "        print(\"Hello, my name is \" + self.name + \" and I am \" + str(self.age) + \" years old.\")\n"
   ]
  },
  {
   "cell_type": "code",
   "execution_count": 12,
   "id": "c1599bb8-c5a4-404b-9788-f611d6218fb8",
   "metadata": {},
   "outputs": [],
   "source": [
    "#answer 5"
   ]
  },
  {
   "cell_type": "code",
   "execution_count": 13,
   "id": "6167ccd5-33f4-4558-b778-b456efb68d56",
   "metadata": {},
   "outputs": [],
   "source": [
    "#Inheritance is a fundamental concept in object-oriented programming (OOP) that allows a class to inherit properties and methods from another class. The class that is being inherited from is called the parent class, base class, or superclass, and the class that is inheriting from it is called the child class, derived class, or subclass.\n",
    "\n",
    "#There are four types of inheritance in Python:"
   ]
  },
  {
   "cell_type": "code",
   "execution_count": 14,
   "id": "7e2dcc96-d7ff-4623-ae8f-519cd590be1f",
   "metadata": {},
   "outputs": [],
   "source": [
    "# 1 Single Inheritance: When a child class inherits from a single parent class, it is called single inheritance. In this type of inheritance, the child class extends the functionality of the parent class by inheriting all its properties and methods. For example:"
   ]
  },
  {
   "cell_type": "code",
   "execution_count": 15,
   "id": "b5e7c262-fccf-4561-9724-ab1c2e05787a",
   "metadata": {},
   "outputs": [
    {
     "name": "stdout",
     "output_type": "stream",
     "text": [
      "Buddy\n",
      "Woof!\n"
     ]
    }
   ],
   "source": [
    "class Animal:\n",
    "    def __init__(self, name):\n",
    "        self.name = name\n",
    "\n",
    "    def speak(self):\n",
    "        pass\n",
    "\n",
    "class Dog(Animal):\n",
    "    def speak(self):\n",
    "        return \"Woof!\"\n",
    "\n",
    "dog = Dog(\"Buddy\")\n",
    "print(dog.name)  # Output: Buddy\n",
    "print(dog.speak())  # Output: Woof!\n"
   ]
  },
  {
   "cell_type": "code",
   "execution_count": null,
   "id": "8ef55ad8-4e38-4f1e-8526-01020519b77a",
   "metadata": {},
   "outputs": [],
   "source": []
  }
 ],
 "metadata": {
  "kernelspec": {
   "display_name": "Python 3 (ipykernel)",
   "language": "python",
   "name": "python3"
  },
  "language_info": {
   "codemirror_mode": {
    "name": "ipython",
    "version": 3
   },
   "file_extension": ".py",
   "mimetype": "text/x-python",
   "name": "python",
   "nbconvert_exporter": "python",
   "pygments_lexer": "ipython3",
   "version": "3.10.8"
  }
 },
 "nbformat": 4,
 "nbformat_minor": 5
}
